{
 "cells": [
  {
   "cell_type": "markdown",
   "metadata": {
    "kernel": "SoS"
   },
   "source": [
    "# Домашна работа"
   ]
  },
  {
   "cell_type": "code",
   "execution_count": 2,
   "metadata": {
    "ExecuteTime": {
     "end_time": "2019-12-21T09:55:31.155490Z",
     "start_time": "2019-12-21T09:44:05.333Z"
    },
    "kernel": "Octave"
   },
   "outputs": [],
   "source": [
    "% pkg load image\n",
    "\n",
    "% function filter = create_filter(nx,ny,d0,d1)\n",
    "% filter = ones(nx,ny);\n",
    "% for i = 0:nx-1\n",
    "%     for j = 0:ny-1\n",
    "%         dist= sqrt((i-nx/2)^2 + (j-ny/2)^2);\n",
    "%         filter(i+1,j+1) = exp(-(dist^2)/(d1^2)).*(1.0-exp(-(dist^2)/(d0^2)));\n",
    "%      end\n",
    "% end\n",
    "% filter(nx/2+1,ny/2+1)=1;\n",
    "% end\n",
    "\n",
    "% %read image\n",
    "% im = double(imread('Barbara.tif'));\n",
    "% %size of the image\n",
    "% [nx ny] = size(im);\n",
    "% %Transform the image from spatial to frequency domain\n",
    "% im_fft = fftshift(fft2(im));\n",
    "% % Create Gaussian bandpass kernels, in frequency domain, for 20 different cut off frequencies and filter the image\n",
    "% p=1;\n",
    "% for i = 1:10:101\n",
    "% q=1;\n",
    "%     for j = 1:10:101\n",
    "%         %Create the bandpass kernel\n",
    "%         tmp1 = create_filter(nx,ny,i,j);\n",
    "%         %Filter the image with the bandpass kernel and transform it back to spatial domain\n",
    "%         tmp = mat2gray(abs(ifft2(ifftshift(tmp1.*im_fft))));\n",
    "%         %Save the filtered image (in spatial domain) and kernel (in frequency domain) for visualization \n",
    "%         filtered_image(p,q,:) = tmp(:);\n",
    "%         filter_kernel(p,q,:) = tmp1(:);\n",
    "%         q=q+1;\n",
    "%     end\n",
    "%     p=p+1;\n",
    "% end"
   ]
  },
  {
   "cell_type": "code",
   "execution_count": 28,
   "metadata": {
    "ExecuteTime": {
     "end_time": "2019-12-22T21:34:55.505372Z",
     "start_time": "2019-12-22T21:34:52.673Z"
    },
    "kernel": "Octave"
   },
   "outputs": [],
   "source": [
    "% save filter_matrix.mat filter_kernel \n",
    "% save filter_image.mat filtered_image"
   ]
  },
  {
   "cell_type": "code",
   "execution_count": 1,
   "metadata": {
    "ExecuteTime": {
     "end_time": "2019-12-22T21:06:45.289419Z",
     "start_time": "2019-12-22T21:01:57.559Z"
    },
    "kernel": "Python3"
   },
   "outputs": [],
   "source": [
    "from oct2py import octave\n",
    "import numpy as np\n",
    "\n",
    "matrix_1 = octave.load('filter_matrix.mat')\n",
    "matrix_2 = octave.load('filter_image.mat')"
   ]
  },
  {
   "cell_type": "code",
   "execution_count": 2,
   "metadata": {
    "ExecuteTime": {
     "end_time": "2019-12-22T21:06:49.383898Z",
     "start_time": "2019-12-22T21:06:49.353Z"
    },
    "kernel": "Python3"
   },
   "outputs": [],
   "source": [
    "filters = matrix_1['filter_kernel']\n",
    "images = matrix_2['filtered_image']"
   ]
  },
  {
   "cell_type": "code",
   "execution_count": 53,
   "metadata": {
    "ExecuteTime": {
     "end_time": "2019-12-22T22:06:28.141672Z",
     "start_time": "2019-12-22T22:06:28.029Z"
    },
    "kernel": "Python3"
   },
   "outputs": [],
   "source": [
    "tmp = images[0][10]\n",
    "tmp = np.flip(octave.reshape(tmp,566,402))"
   ]
  },
  {
   "cell_type": "code",
   "execution_count": 74,
   "metadata": {
    "ExecuteTime": {
     "end_time": "2019-12-22T22:28:45.571051Z",
     "start_time": "2019-12-22T22:28:41.219Z"
    },
    "kernel": "Python3"
   },
   "outputs": [
    {
     "data": {
      "application/vnd.jupyter.widget-view+json": {
       "model_id": "f661f10b0e914672a2ea1c3c6059b818",
       "version_major": 2,
       "version_minor": 0
      },
      "text/plain": [
       "VBox(children=(interactive(children=(IntRangeSlider(value=(1, 101), continuous_update=False, description='Freq…"
      ]
     },
     "metadata": {},
     "output_type": "display_data"
    }
   ],
   "source": [
    "from ipywidgets import widgets, VBox, interactive\n",
    "import plotly.graph_objs as go\n",
    "\n",
    "slider = widgets.IntRangeSlider(\n",
    "    value=[1, 101],\n",
    "    min=1,\n",
    "    max=101,\n",
    "    step=10,\n",
    "    description='Freq',\n",
    "    continuous_update=False,\n",
    "    readout=True,\n",
    "    readout_format='d'\n",
    ")\n",
    "slider.layout.width = '750px'\n",
    "\n",
    "fig = go.FigureWidget()\n",
    "\n",
    "fig.add_heatmap(z=tmp,\n",
    "                colorscale = 'Gray',\n",
    "                showscale = False)\n",
    "\n",
    "fig.layout.title='Filter image'\n",
    "fig.layout.autosize = True\n",
    "\n",
    "fig.update_xaxes(visible = False)\n",
    "fig.update_yaxes(visible = False)\n",
    "fig.update_layout(height = 700, width = 550)\n",
    "fig.update_traces(overwrite = True)\n",
    "\n",
    "def up_func(current):\n",
    "    index_x = int(np.floor(slider.value[0]/10))\n",
    "    index_y = int(np.floor(slider.value[1]/10))\n",
    "    tmp = images[index_x][index_y]\n",
    "    tmp = np.flip(octave.reshape(tmp,566,402))\n",
    "    fig.data[0]['z'] = tmp \n",
    "\n",
    "vb = VBox((interactive(up_func, current = slider), fig))\n",
    "vb.layout.align_items = 'center'\n",
    "vb"
   ]
  }
 ],
 "metadata": {
  "kernelspec": {
   "display_name": "SoS",
   "language": "sos",
   "name": "sos"
  },
  "language_info": {
   "codemirror_mode": "sos",
   "file_extension": ".sos",
   "mimetype": "text/x-sos",
   "name": "sos",
   "nbconvert_exporter": "sos_notebook.converter.SoS_Exporter",
   "pygments_lexer": "sos"
  },
  "latex_envs": {
   "LaTeX_envs_menu_present": true,
   "autoclose": false,
   "autocomplete": true,
   "bibliofile": "biblio.bib",
   "cite_by": "apalike",
   "current_citInitial": 1,
   "eqLabelWithNumbers": true,
   "eqNumInitial": 1,
   "hotkeys": {
    "equation": "Ctrl-E",
    "itemize": "Ctrl-I"
   },
   "labels_anchors": false,
   "latex_user_defs": false,
   "report_style_numbering": false,
   "user_envs_cfg": false
  },
  "sos": {
   "kernels": [
    [
     "Octave",
     "octave",
     "Octave",
     "#dff8fb",
     ""
    ],
    [
     "Python3",
     "python3",
     "Python3",
     "#FFD91A",
     ""
    ]
   ],
   "panel": {
    "displayed": false,
    "height": 0
   },
   "version": "0.20.6"
  },
  "varInspector": {
   "cols": {
    "lenName": 16,
    "lenType": 16,
    "lenVar": 40
   },
   "kernels_config": {
    "python": {
     "delete_cmd_postfix": "",
     "delete_cmd_prefix": "del ",
     "library": "var_list.py",
     "varRefreshCmd": "print(var_dic_list())"
    },
    "r": {
     "delete_cmd_postfix": ") ",
     "delete_cmd_prefix": "rm(",
     "library": "var_list.r",
     "varRefreshCmd": "cat(var_dic_list()) "
    }
   },
   "types_to_exclude": [
    "module",
    "function",
    "builtin_function_or_method",
    "instance",
    "_Feature"
   ],
   "window_display": false
  }
 },
 "nbformat": 4,
 "nbformat_minor": 2
}
