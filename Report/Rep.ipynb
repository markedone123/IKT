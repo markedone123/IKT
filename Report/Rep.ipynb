{
 "cells": [
  {
   "cell_type": "markdown",
   "metadata": {
    "kernel": "SoS"
   },
   "source": [
    "# Домашна работа \n",
    "## Теорија\n",
    "Објаснување на формулите"
   ]
  },
  {
   "cell_type": "markdown",
   "metadata": {
    "kernel": "SoS"
   },
   "source": [
    "За да филтрираме слика во фреквенциски домен потребно е да ја помножиме сликата во фреквенциски домен со филтерот ( кернел ) кој е исто така во фреквенциски домен.\n",
    "<br><br>\n",
    "\n",
    "\\begin{equation}\n",
    "I_{f,filt} = HI_f\n",
    "\\end{equation}\n",
    "\n",
    "\n",
    "За таа цел потребно е да се вметне Octave функција која ќе креира “Band pass gaussian filter” во фреквенциски домен. Bandpass гаусовиот филтер во фреквенциски домен е дефиниран со равенката\n"
   ]
  },
  {
   "cell_type": "markdown",
   "metadata": {
    "kernel": "SoS"
   },
   "source": [
    "\\begin{equation}\n",
    "H(i,j) = e ^{-\\frac{d(i,j)^2}{f^2_l}} \\left( 1 - e ^{-\\frac{d(i,j)^2}{f^2_l}} \\right)\\\n",
    "\\end{equation}"
   ]
  },
  {
   "cell_type": "markdown",
   "metadata": {
    "kernel": "SoS"
   },
   "source": [
    "Каде што $d(i,j)$ е евклидовото растојанието на даден пиксел од центарот на сликата, додека $f_h$ и $f_l$ се праговите на високите и ниските фреквенции кои сакаме да ги филтрираме. \n",
    "<br> <br>\n",
    "Конверзија на 2D сликата од просторен во фреквенциски домен се прави со користење на **Фуриева трансформација**.Фуриевата трансформација е дефинирана како: "
   ]
  },
  {
   "cell_type": "markdown",
   "metadata": {
    "kernel": "SoS"
   },
   "source": [
    "\\begin{equation*}\n",
    "F(u,v) = \\iint_{-\\infty}^{\\infty} f(x,y) e^{-i2\\pi(ux+vy)} dxdy\n",
    "\\end{equation*}"
   ]
  },
  {
   "cell_type": "markdown",
   "metadata": {
    "ExecuteTime": {
     "end_time": "2019-12-23T12:22:40.948836Z",
     "start_time": "2019-12-23T12:22:40.881Z"
    },
    "kernel": "SoS"
   },
   "source": [
    "А во дискретниот домен горната равенка може да биде преведена како "
   ]
  },
  {
   "cell_type": "markdown",
   "metadata": {
    "kernel": "SoS"
   },
   "source": [
    "\\begin{equation}\n",
    "F(u,v) = \\displaystyle\\sum_{m=-\\infty}^{\\infty} \\sum_{n=-\\infty}^{\\infty} f[m,n] \\cdot e^ {-i2\\pi(umx_0+vny_0)}\n",
    "\\end{equation}\n"
   ]
  },
  {
   "cell_type": "markdown",
   "metadata": {
    "kernel": "SoS"
   },
   "source": [
    "Конверзија на 2D сликата од фреквенциски во просторен домен се прави со користење на инверзна Фуриева трансформација. Инверзната Фуриева трансформација е дефинирана како:"
   ]
  },
  {
   "cell_type": "markdown",
   "metadata": {
    "kernel": "SoS"
   },
   "source": [
    "\\begin{equation*}\n",
    "F(x,y) = \\iint_{-\\infty}^{\\infty} f(u,v) e^{i2\\pi(ux+vy)} dudv\n",
    "\\end{equation*}"
   ]
  },
  {
   "cell_type": "markdown",
   "metadata": {
    "kernel": "SoS"
   },
   "source": [
    "А во дискретниот домен горната равенка може да биде преведена како"
   ]
  },
  {
   "cell_type": "markdown",
   "metadata": {
    "ExecuteTime": {
     "end_time": "2019-12-23T12:24:16.848674Z",
     "start_time": "2019-12-23T12:24:16.844Z"
    },
    "kernel": "SoS"
   },
   "source": [
    "\\begin{equation}\n",
    "F(x,y) = \\displaystyle\\sum_{m=-\\infty}^{\\infty} \\sum_{n=-\\infty}^{\\infty} f[m,n] \\cdot e^ {i2\\pi(xmu_0+ynv_0)}\n",
    "\\end{equation}"
   ]
  },
  {
   "cell_type": "markdown",
   "metadata": {
    "kernel": "SoS"
   },
   "source": [
    "Во следната келија Octave се извршуваат следните работи:\n",
    "    - Креирање на филтер со помош на create_filter (nx,ny,d0,d1), каде nx и ny се димензиите на сликата a d0 и d1 се фреквенциски прагови кои се филтерираат,\n",
    "    - Читање на слика и нејзини димензии \n",
    "    - Трансформирање на сликата од просторен во фреквенциски домен\n",
    "    - Креирање на Гаусов филтер во фреквенциски домен и филтрирање на слика\n",
    "    - Креирање на bandpass кернел \n",
    "    - Филтрирање на слика со bandpass кернел и трансформирање назад во домен\n",
    "    - Зачувуање на матриците filtered_kernel и filtered_image"
   ]
  },
  {
   "cell_type": "code",
   "execution_count": 1,
   "metadata": {
    "ExecuteTime": {
     "end_time": "2019-12-23T12:58:51.624982Z",
     "start_time": "2019-12-23T12:58:46.855Z"
    },
    "kernel": "Octave"
   },
   "outputs": [],
   "source": [
    "% pkg load image\n",
    "\n",
    "% function filter = create_filter(nx,ny,d0,d1)\n",
    "% filter = ones(nx,ny);\n",
    "% for i = 0:nx-1\n",
    "%     for j = 0:ny-1\n",
    "%         dist= sqrt((i-nx/2)^2 + (j-ny/2)^2);\n",
    "%         filter(i+1,j+1) = exp(-(dist^2)/(d1^2)).*(1.0-exp(-(dist^2)/(d0^2)));\n",
    "%      end\n",
    "% end\n",
    "% filter(nx/2+1,ny/2+1)=1;\n",
    "% end\n",
    "\n",
    "% %read image\n",
    "% im = double(imread('Barbara.tif'));\n",
    "% %size of the image\n",
    "% [nx ny] = size(im);\n",
    "% %Transform the image from spatial to frequency domain\n",
    "% im_fft = fftshift(fft2(im));\n",
    "% % Create Gaussian bandpass kernels, in frequency domain, for 20 different cut off frequencies and filter the image\n",
    "% p=1;\n",
    "% for i = 1:10:101\n",
    "% q=1;\n",
    "%     for j = 1:10:101\n",
    "%         %Create the bandpass kernel\n",
    "%         tmp1 = create_filter(nx,ny,i,j);\n",
    "%         %Filter the image with the bandpass kernel and transform it back to spatial domain\n",
    "%         tmp = mat2gray(abs(ifft2(ifftshift(tmp1.*im_fft))));\n",
    "%         %Save the filtered image (in spatial domain) and kernel (in frequency domain) for visualization \n",
    "%         filtered_image(p,q,:) = tmp(:);\n",
    "%         filter_kernel(p,q,:) = tmp1(:);\n",
    "%         q=q+1;\n",
    "%     end\n",
    "%     p=p+1;\n",
    "% end\n",
    "% save filter_matrix.mat filter_kernel \n",
    "% save filter_image.mat filtered_image"
   ]
  },
  {
   "cell_type": "markdown",
   "metadata": {
    "kernel": "Octave"
   },
   "source": [
    "Читање на матриците со помош на Oct2py "
   ]
  },
  {
   "cell_type": "code",
   "execution_count": 2,
   "metadata": {
    "ExecuteTime": {
     "end_time": "2019-12-23T13:03:36.443220Z",
     "start_time": "2019-12-23T12:58:55.342Z"
    },
    "kernel": "Python3"
   },
   "outputs": [],
   "source": [
    "from oct2py import octave\n",
    "\n",
    "matrix_1 = octave.load('filter_matrix.mat')\n",
    "matrix_2 = octave.load('filter_image.mat')"
   ]
  },
  {
   "cell_type": "markdown",
   "metadata": {
    "kernel": "Python3"
   },
   "source": [
    "Земање на соодведни вредности од читањето на .mat филовите"
   ]
  },
  {
   "cell_type": "code",
   "execution_count": 3,
   "metadata": {
    "ExecuteTime": {
     "end_time": "2019-12-23T13:04:05.182524Z",
     "start_time": "2019-12-23T13:04:05.152Z"
    },
    "kernel": "Python3"
   },
   "outputs": [],
   "source": [
    "filters = matrix_1['filter_kernel']\n",
    "images = matrix_2['filtered_image']"
   ]
  },
  {
   "cell_type": "markdown",
   "metadata": {
    "kernel": "Python3"
   },
   "source": [
    "Во images матрицата, сликата која што одговара на нефилтрираната слика ( Barbara.tif) е во ред 0 и колона 10 истата ја читаме и ја ротираме."
   ]
  },
  {
   "cell_type": "code",
   "execution_count": 6,
   "metadata": {
    "ExecuteTime": {
     "end_time": "2019-12-23T13:04:51.295990Z",
     "start_time": "2019-12-23T13:04:51.202Z"
    },
    "kernel": "Python3"
   },
   "outputs": [],
   "source": [
    "import numpy as np\n",
    "tmp = images[0][10]\n",
    "tmp = np.flip(octave.reshape(tmp,566,402))"
   ]
  },
  {
   "cell_type": "markdown",
   "metadata": {
    "kernel": "Python3"
   },
   "source": [
    "Креирање на фигура каде со менување на вредности на слајдерот се менуваат праговите на филтрирањето"
   ]
  },
  {
   "cell_type": "code",
   "execution_count": 7,
   "metadata": {
    "ExecuteTime": {
     "end_time": "2019-12-23T13:05:01.705054Z",
     "start_time": "2019-12-23T13:04:54.931Z"
    },
    "kernel": "Python3"
   },
   "outputs": [
    {
     "data": {
      "application/vnd.jupyter.widget-view+json": {
       "model_id": "ba35e04d477a4aa3ab747f7d029674ec",
       "version_major": 2,
       "version_minor": 0
      },
      "text/plain": [
       "VBox(children=(interactive(children=(IntRangeSlider(value=(1, 101), continuous_update=False, description='Freq…"
      ]
     },
     "metadata": {},
     "output_type": "display_data"
    }
   ],
   "source": [
    "from ipywidgets import widgets, VBox, interactive\n",
    "import plotly.graph_objs as go\n",
    "import numpy as np\n",
    "\n",
    "slider = widgets.IntRangeSlider(\n",
    "    value=[1, 101],\n",
    "    min=1,\n",
    "    max=101,\n",
    "    step=10,\n",
    "    description='Freq',\n",
    "    continuous_update=False,\n",
    "    readout=True,\n",
    "    readout_format='d'\n",
    ")\n",
    "slider.layout.width = '750px'\n",
    "\n",
    "fig = go.FigureWidget()\n",
    "\n",
    "fig.add_heatmap(z=tmp,\n",
    "                colorscale = 'Gray',\n",
    "                showscale = False)\n",
    "\n",
    "fig.layout.title='Filter image'\n",
    "fig.layout.autosize = True\n",
    "\n",
    "fig.update_xaxes(visible = False)\n",
    "fig.update_yaxes(visible = False)\n",
    "fig.update_layout(height = 700, width = 550)\n",
    "fig.update_traces(overwrite = True)\n",
    "\n",
    "def up_func(current):\n",
    "    index_x = int(np.floor(slider.value[0]/10))\n",
    "    index_y = int(np.floor(slider.value[1]/10))\n",
    "    tmp = images[index_x][index_y]\n",
    "    tmp = np.flip(octave.reshape(tmp,566,402))\n",
    "    fig.data[0]['z'] = tmp \n",
    "\n",
    "vb = VBox((interactive(up_func, current = slider), fig))\n",
    "vb.layout.align_items = 'center'\n",
    "vb"
   ]
  }
 ],
 "metadata": {
  "kernelspec": {
   "display_name": "SoS",
   "language": "sos",
   "name": "sos"
  },
  "language_info": {
   "codemirror_mode": "sos",
   "file_extension": ".sos",
   "mimetype": "text/x-sos",
   "name": "sos",
   "nbconvert_exporter": "sos_notebook.converter.SoS_Exporter",
   "pygments_lexer": "sos"
  },
  "latex_envs": {
   "LaTeX_envs_menu_present": true,
   "autoclose": false,
   "autocomplete": true,
   "bibliofile": "biblio.bib",
   "cite_by": "apalike",
   "current_citInitial": 1,
   "eqLabelWithNumbers": true,
   "eqNumInitial": 1,
   "hotkeys": {
    "equation": "Ctrl-E",
    "itemize": "Ctrl-I"
   },
   "labels_anchors": false,
   "latex_user_defs": false,
   "report_style_numbering": false,
   "user_envs_cfg": false
  },
  "sos": {
   "kernels": [
    [
     "Octave",
     "octave",
     "Octave",
     "#dff8fb",
     ""
    ],
    [
     "Python3",
     "python3",
     "Python3",
     "#FFD91A",
     {
      "name": "ipython",
      "version": 3
     }
    ]
   ],
   "panel": {
    "displayed": false,
    "height": 0
   },
   "version": "0.20.6"
  },
  "varInspector": {
   "cols": {
    "lenName": 16,
    "lenType": 16,
    "lenVar": 40
   },
   "kernels_config": {
    "python": {
     "delete_cmd_postfix": "",
     "delete_cmd_prefix": "del ",
     "library": "var_list.py",
     "varRefreshCmd": "print(var_dic_list())"
    },
    "r": {
     "delete_cmd_postfix": ") ",
     "delete_cmd_prefix": "rm(",
     "library": "var_list.r",
     "varRefreshCmd": "cat(var_dic_list()) "
    }
   },
   "types_to_exclude": [
    "module",
    "function",
    "builtin_function_or_method",
    "instance",
    "_Feature"
   ],
   "window_display": false
  }
 },
 "nbformat": 4,
 "nbformat_minor": 2
}
